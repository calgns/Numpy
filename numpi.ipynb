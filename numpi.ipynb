{
 "cells": [
  {
   "cell_type": "code",
   "execution_count": 8,
   "metadata": {},
   "outputs": [
    {
     "name": "stdout",
     "output_type": "stream",
     "text": [
      "[1 2 3 4]\n"
     ]
    }
   ],
   "source": [
    "import numpy as np\n",
    "# importando bibliote a ser usada \n",
    "# as significa como nesse caso as np seria com np ou apelidado de np, pra ficar menor.\n",
    "# agora fazendo um pouco de array\n",
    "aray=np.array([1,2,3,4])\n",
    "print(aray)"
   ]
  },
  {
   "cell_type": "code",
   "execution_count": 53,
   "metadata": {},
   "outputs": [
    {
     "data": {
      "text/plain": [
       "array([[ 2,  4,  5],\n",
       "       [12, 23,  2]])"
      ]
     },
     "execution_count": 53,
     "metadata": {},
     "output_type": "execute_result"
    }
   ],
   "source": [
    "# dica: se no seu deu errado é porque a quantidade de objetos na 1º tupla não é o mesmo na 2º\n",
    "aray = np.array([(2,4,5),(12,23,2)]) # array com mais de uma linha, matriz.\n",
    "aray"
   ]
  },
  {
   "cell_type": "code",
   "execution_count": 61,
   "metadata": {},
   "outputs": [
    {
     "data": {
      "text/plain": [
       "array([[0., 0.],\n",
       "       [0., 0.],\n",
       "       [0., 0.]])"
      ]
     },
     "execution_count": 61,
     "metadata": {},
     "output_type": "execute_result"
    }
   ],
   "source": [
    "ara = np.zeros((3,2)) # a = \n",
    "ara"
   ]
  },
  {
   "cell_type": "code",
   "execution_count": 11,
   "metadata": {},
   "outputs": [
    {
     "name": "stdout",
     "output_type": "stream",
     "text": [
      "[1 2 3 4]\n"
     ]
    }
   ],
   "source": [
    "# explicando um pouco o porquê de fazer isso pode ser errado\n",
    "aray1 = aray\n",
    "print(aray1)"
   ]
  },
  {
   "cell_type": "code",
   "execution_count": 14,
   "metadata": {},
   "outputs": [
    {
     "name": "stdout",
     "output_type": "stream",
     "text": [
      "[0 2 3 4] [0 2 3 4]\n"
     ]
    }
   ],
   "source": [
    "# por mais que pareça que atribuir uma variavel dentro de outra e não seu valor seja mais facil\n",
    "# isso pode te dar problemas.\n",
    "aray1[0]=0\n",
    "print(aray,aray1) # como este\n",
    "# isso ocorre pois é como se você estivesse criando um atalho, ou seja, qualquer alteração feita em um\n",
    "# ocorrerá no outro."
   ]
  },
  {
   "cell_type": "code",
   "execution_count": 22,
   "metadata": {},
   "outputs": [
    {
     "name": "stdout",
     "output_type": "stream",
     "text": [
      "sem usar copy:\n",
      "Aray= [1 2 3 4]  Aray1= [1 2 3 4]\n",
      "\n",
      "usando copy:\n",
      "Aray= [1 2 3 4]  Aray1= [11  2  3  4]\n"
     ]
    }
   ],
   "source": [
    "# todas as alterações feitas em um vão ser aplicadas no outro por ocuparem o mesmo lugar e serem o mesmo \n",
    "# objeto com a unica diferença de terem nomes diferentes\n",
    "# logo o que você fará é usar a biblioteca copy\n",
    "import copy\n",
    "\n",
    "aray=np.array([1,2,3,4])\n",
    "aray1 = aray\n",
    "print(\"sem usar copy:\")\n",
    "print(\"Aray=\",aray,\" Aray1=\",aray1)\n",
    "\n",
    "print(\"\\nusando copy:\")\n",
    "aray1 = copy.deepcopy(aray)\n",
    "aray1[0]=11\n",
    "print(\"Aray =\",aray,\" Aray1 =\",aray1)"
   ]
  },
  {
   "cell_type": "code",
   "execution_count": 30,
   "metadata": {},
   "outputs": [
    {
     "name": "stdout",
     "output_type": "stream",
     "text": [
      "['1' 'limão' 'com marcuja' '1']\n"
     ]
    }
   ],
   "source": [
    "aray2 = np.array([(1),(\"limão\"),(\"com marcuja\"),(1)]) \n",
    "print(aray2) # todos os elementos do array tem que ser do mesmo tipo, ou seja, se tiver str e int, str sera \n",
    "# predominante. "
   ]
  },
  {
   "cell_type": "code",
   "execution_count": 49,
   "metadata": {},
   "outputs": [
    {
     "name": "stdout",
     "output_type": "stream",
     "text": [
      "['limão' 'com marcuja' (1, 2)]\n"
     ]
    },
    {
     "name": "stderr",
     "output_type": "stream",
     "text": [
      "<ipython-input-49-ce38ba586168>:1: VisibleDeprecationWarning: Creating an ndarray from ragged nested sequences (which is a list-or-tuple of lists-or-tuples-or ndarrays with different lengths or shapes) is deprecated. If you meant to do this, you must specify 'dtype=object' when creating the ndarray\n",
      "  aray2 = np.array([(\"limão\"),(\"com marcuja\"),(1,2)]) # e se tiver mais de um numero, retornar uma mensagem\n"
     ]
    }
   ],
   "source": [
    "aray2 = np.array([(\"limão\"),(\"com marcuja\"),(1,2)]) # e se tiver mais de um numero, retornar uma mensagem\n",
    "print(aray2) # que pode ser considerado um alerta de error, pois, há apenas uma sting logo ter 2 int seria \n",
    "# errado."
   ]
  },
  {
   "cell_type": "code",
   "execution_count": 50,
   "metadata": {},
   "outputs": [
    {
     "name": "stderr",
     "output_type": "stream",
     "text": [
      "<ipython-input-50-b648e93a1862>:2: VisibleDeprecationWarning: Creating an ndarray from ragged nested sequences (which is a list-or-tuple of lists-or-tuples-or ndarrays with different lengths or shapes) is deprecated. If you meant to do this, you must specify 'dtype=object' when creating the ndarray\n",
      "  la = np.array([(1),(1),(1,2)])\n"
     ]
    },
    {
     "data": {
      "text/plain": [
       "array([1, 1, (1, 2)], dtype=object)"
      ]
     },
     "execution_count": 50,
     "metadata": {},
     "output_type": "execute_result"
    }
   ],
   "source": [
    "# esse erro tambem dá com um array de numeros\n",
    "la = np.array([(1),(1),(1,2)])\n",
    "la"
   ]
  }
 ],
 "metadata": {
  "kernelspec": {
   "display_name": "Python 3",
   "language": "python",
   "name": "python3"
  },
  "language_info": {
   "codemirror_mode": {
    "name": "ipython",
    "version": 3
   },
   "file_extension": ".py",
   "mimetype": "text/x-python",
   "name": "python",
   "nbconvert_exporter": "python",
   "pygments_lexer": "ipython3",
   "version": "3.8.5"
  }
 },
 "nbformat": 4,
 "nbformat_minor": 4
}
